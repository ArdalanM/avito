{
 "cells": [
  {
   "cell_type": "code",
   "execution_count": 10,
   "metadata": {
    "collapsed": true
   },
   "outputs": [],
   "source": [
    "__author__ = 'Evgeny BAZAROV'\n",
    "\n",
    "FOLDER = \"/home/evgeny/kaggle/input/\"\n",
    "\n",
    "import numpy as np\n",
    "import pandas as pd\n",
    "from math import radians\n",
    "\n",
    "pd.set_option(\"display.max_columns\", 99)\n",
    "\n",
    "FOLDER = \"/home/evgeny/kaggle/input/\"\n",
    "\n",
    "def haversine(pddata, lon1='', lat1='', lon2='', lat2=''):\n",
    "    \"\"\"\n",
    "    Calculate the great circle distance between two points\n",
    "    on the earth (specified in decimal degrees)\n",
    "    \"\"\"\n",
    "    # convert decimal degrees to radians\n",
    "    lon1 = pddata[lon1].apply(radians).values\n",
    "    lat1 = pddata[lat1].apply(radians).values\n",
    "    lon2 = pddata[lon2].apply(radians).values\n",
    "    lat2 = pddata[lat2].apply(radians).values\n",
    "\n",
    "    # haversine formula\n",
    "    dlon = lon2 - lon1\n",
    "    dlat = lat2 - lat1\n",
    "    a = np.sin(dlat / 2) ** 2 + np.cos(lat1) * np.cos(lat2) * np.sin(dlon / 2) ** 2\n",
    "    c = 2 * np.arcsin(np.sqrt(a))\n",
    "    r = 6371  # Radius of earth in kilometers. Use 3956 for miles\n",
    "    return c * r"
   ]
  },
  {
   "cell_type": "code",
   "execution_count": 2,
   "metadata": {
    "collapsed": true
   },
   "outputs": [],
   "source": [
    "print(\"Loading...\")\n",
    "print(\"----- LOAD train_merged-part1\")\n",
    "pdtrain1 = pd.read_hdf(FOLDER + \"train_merged-part1.h\")\n",
    "print(\"----- LOAD train_merged-part2\")\n",
    "pdtrain2 = pd.read_hdf(FOLDER + \"train_merged-part2.h\")\n",
    "pdtrain = pdtrain1.append(pdtrain2)\n",
    "print(\"----- LOAD test_merged\")\n",
    "pdtest = pd.read_hdf(FOLDER + \"test_merged.h\")\n",
    "pd_data = pdtrain.append(pdtest)\n",
    "\n",
    "del pdtrain1\n",
    "del pdtrain2\n",
    "\n",
    "print(\"DONE\")"
   ]
  },
  {
   "cell_type": "code",
   "execution_count": 5,
   "metadata": {
    "collapsed": false
   },
   "outputs": [
    {
     "data": {
      "text/plain": [
       "Index(['attrsJSON_1', 'attrsJSON_2', 'categoryID_1', 'categoryID_2',\n",
       "       'description_1', 'description_2', 'generationMethod', 'id',\n",
       "       'images_array_1', 'images_array_2', 'isDuplicate', 'itemID_1',\n",
       "       'itemID_2', 'lat_1', 'lat_2', 'locationID_1', 'locationID_2', 'lon_1',\n",
       "       'lon_2', 'metroID_1', 'metroID_2', 'parentCategoryID_1',\n",
       "       'parentCategoryID_2', 'price_1', 'price_2', 'regionID_1', 'regionID_2',\n",
       "       'title_1', 'title_2'],\n",
       "      dtype='object')"
      ]
     },
     "execution_count": 5,
     "metadata": {},
     "output_type": "execute_result"
    }
   ],
   "source": [
    "pd_data.columns"
   ]
  },
  {
   "cell_type": "code",
   "execution_count": 15,
   "metadata": {
    "collapsed": false
   },
   "outputs": [
    {
     "data": {
      "text/plain": [
       "id                         0\n",
       "itemID_1                   0\n",
       "itemID_2                   0\n",
       "categoryID_1               0\n",
       "title_1                    2\n",
       "description_1             25\n",
       "images_array_1        117733\n",
       "attrsJSON_1            38490\n",
       "price_1               129371\n",
       "locationID_1               0\n",
       "metroID_1             740808\n",
       "lat_1                      0\n",
       "lon_1                      0\n",
       "parentCategoryID_1         0\n",
       "regionID_1                 0\n",
       "categoryID_2               0\n",
       "title_2                    0\n",
       "description_2             24\n",
       "images_array_2        117974\n",
       "attrsJSON_2            38490\n",
       "price_2               129700\n",
       "locationID_2               0\n",
       "metroID_2             740115\n",
       "lat_2                      0\n",
       "lon_2                      0\n",
       "parentCategoryID_2         0\n",
       "regionID_2                 0\n",
       "dtype: int64"
      ]
     },
     "execution_count": 15,
     "metadata": {},
     "output_type": "execute_result"
    }
   ],
   "source": []
  },
  {
   "cell_type": "code",
   "execution_count": 3,
   "metadata": {
    "collapsed": true
   },
   "outputs": [],
   "source": [
    "print(\"Replacing NaN\")\n",
    "pd_data['title_1'].fillna(\"\", inplace=True)\n",
    "pd_data['title_2'].fillna(\"\", inplace=True)\n",
    "pd_data['description_1'].fillna(\"\", inplace=True)\n",
    "pd_data['description_2'].fillna(\"\", inplace=True)\n",
    "pd_data['attrsJSON_1'].fillna(\"\", inplace=True)\n",
    "pd_data['attrsJSON_2'].fillna(\"\", inplace=True)\n",
    "pd_data['images_array_1'].fillna(\"\", inplace=True)\n",
    "pd_data['images_array_2'].fillna(\"\", inplace=True)"
   ]
  },
  {
   "cell_type": "code",
   "execution_count": 4,
   "metadata": {
    "collapsed": true
   },
   "outputs": [],
   "source": [
    "# feature dataframe\n",
    "pd_features = pd.DataFrame()"
   ]
  },
  {
   "cell_type": "code",
   "execution_count": 6,
   "metadata": {
    "collapsed": true
   },
   "outputs": [],
   "source": [
    "# titles\n",
    "pd_features['title_diff_len'] = np.abs(pd_data['title_2'].apply(len) - pd_data['title_1'].apply(len))\n",
    "pd_features['title_dlevenshtein'] = pd.read_hdf(FOLDER + \"feat_train_title_demarauleven.h\")\n",
    "pd_features['title_jarowinkler'] = pd.read_hdf(FOLDER + \"feat_train_title_jarowinkler.h\")\n",
    "pd_features['title_num_same'] = pd.read_hdf(FOLDER + \"feat_train_title_num_same.h\")\n",
    "\n",
    "# description\n",
    "pd_features['description_diff_len'] = np.abs(pd_data['description_2'].apply(len) - pd_data['description_1'].apply(len))\n",
    "pd_features['description_dlevenshtein'] = pd.read_hdf(FOLDER + \"feat_train_description_demarauleven.h\")\n",
    "pd_features['description_jarowinkler'] = pd.read_hdf(FOLDER + \"feat_train_description_jarowinkler.h\")\n",
    "\n",
    "# price\n",
    "pd_features['price_diff'] = np.abs(pd_data['price_1']-pd_data['price_2'])*1./(np.abs(pd_data['price_1']) + np.abs(pd_data['price_2']))\n",
    "pd_features['price_diff'].fillna(-9999, inplace=True)\n",
    "\n",
    "# attrJson\n",
    "pd_features['attrsJSON_diff_len'] = np.abs(pd_data['attrsJSON_1'].apply(len) - pd_data['attrsJSON_2'].apply(len))\n",
    "pd_features['attrsJSON_dlevenshtein'] = pd.read_hdf(FOLDER + \"feat_train_attrsJSON_demarauleven.h\")\n",
    "pd_features['attrsJSON_jarowinkler'] = pd.read_hdf(FOLDER + \"feat_train_attrsJSON_jarowinkler.h\")\n",
    "\n",
    "# images_array\n",
    "pd_features['images_diff_number'] = np.abs(pd_data['images_array_1'].apply(lambda x: len(x.split(',')))-pd_data['images_array_2'].apply(lambda x: len(x.split(','))))\n",
    "\n",
    "# geographic features\n",
    "pd_features['metroID_same'] = 1 * (pd_data['metroID_1'] == pd_data['metroID_2'])\n",
    "pd_features['locationID_same'] = 1 * (pd_data['locationID_1'] == pd_data['locationID_2'])\n",
    "pd_features['regionID_same'] = 1 * (pd_data['regionID_1'] == pd_data['regionID_2'])\n",
    "pd_features['haversine'] = haversine(pd_data, lon1='lon_1', lat1='lat_1', lon2='lon_2', lat2='lat_2')\n",
    "pd_features['haversine'] = (pd_features['haversine'] - pd_features['haversine'].mean()) / pd_features['haversine'].std()\n",
    "\n",
    "pd_features['categoryID_same'] = 1 * (pd_data['categoryID_1'] == pd_data['categoryID_2'])\n",
    "#pd_features['parentCategoryID_same'] = 1 * (pd_data['parentCategoryID_1'] == pd_data['parentCategoryID_2'])\n",
    "\n",
    "pd_features['isDuplicate'] = pd_data['isDuplicate']\n",
    "pd_features['id'] = pd_data['id']"
   ]
  },
  {
   "cell_type": "code",
   "execution_count": 7,
   "metadata": {
    "collapsed": false
   },
   "outputs": [
    {
     "data": {
      "text/html": [
       "<div>\n",
       "<table border=\"1\" class=\"dataframe\">\n",
       "  <thead>\n",
       "    <tr style=\"text-align: right;\">\n",
       "      <th></th>\n",
       "      <th>title_diff_len</th>\n",
       "      <th>title_dlevenshtein</th>\n",
       "      <th>title_jarowinkler</th>\n",
       "      <th>title_num_same</th>\n",
       "      <th>description_diff_len</th>\n",
       "      <th>description_dlevenshtein</th>\n",
       "      <th>description_jarowinkler</th>\n",
       "      <th>price_diff</th>\n",
       "      <th>attrsJSON_diff_len</th>\n",
       "      <th>attrsJSON_dlevenshtein</th>\n",
       "      <th>attrsJSON_jarowinkler</th>\n",
       "      <th>images_diff_number</th>\n",
       "      <th>metroID_same</th>\n",
       "      <th>locationID_same</th>\n",
       "      <th>regionID_same</th>\n",
       "      <th>haversine</th>\n",
       "      <th>categoryID_same</th>\n",
       "      <th>isDuplicate</th>\n",
       "      <th>id</th>\n",
       "    </tr>\n",
       "  </thead>\n",
       "  <tbody>\n",
       "    <tr>\n",
       "      <th>0</th>\n",
       "      <td>0</td>\n",
       "      <td>0.000000</td>\n",
       "      <td>1.000000</td>\n",
       "      <td>1</td>\n",
       "      <td>0</td>\n",
       "      <td>0.000000</td>\n",
       "      <td>1.000000</td>\n",
       "      <td>0.000000</td>\n",
       "      <td>0</td>\n",
       "      <td>0.000000</td>\n",
       "      <td>1.000000</td>\n",
       "      <td>1</td>\n",
       "      <td>0</td>\n",
       "      <td>1</td>\n",
       "      <td>1</td>\n",
       "      <td>-0.205083</td>\n",
       "      <td>1</td>\n",
       "      <td>1.0</td>\n",
       "      <td>NaN</td>\n",
       "    </tr>\n",
       "    <tr>\n",
       "      <th>1</th>\n",
       "      <td>13</td>\n",
       "      <td>0.666667</td>\n",
       "      <td>0.396825</td>\n",
       "      <td>1</td>\n",
       "      <td>116</td>\n",
       "      <td>0.666667</td>\n",
       "      <td>0.396825</td>\n",
       "      <td>0.200000</td>\n",
       "      <td>0</td>\n",
       "      <td>0.666667</td>\n",
       "      <td>0.396825</td>\n",
       "      <td>1</td>\n",
       "      <td>0</td>\n",
       "      <td>1</td>\n",
       "      <td>1</td>\n",
       "      <td>-0.205083</td>\n",
       "      <td>1</td>\n",
       "      <td>0.0</td>\n",
       "      <td>NaN</td>\n",
       "    </tr>\n",
       "    <tr>\n",
       "      <th>2</th>\n",
       "      <td>15</td>\n",
       "      <td>0.695652</td>\n",
       "      <td>0.390700</td>\n",
       "      <td>1</td>\n",
       "      <td>11</td>\n",
       "      <td>0.695652</td>\n",
       "      <td>0.390700</td>\n",
       "      <td>0.090909</td>\n",
       "      <td>0</td>\n",
       "      <td>0.695652</td>\n",
       "      <td>0.390700</td>\n",
       "      <td>1</td>\n",
       "      <td>0</td>\n",
       "      <td>1</td>\n",
       "      <td>1</td>\n",
       "      <td>-0.205083</td>\n",
       "      <td>1</td>\n",
       "      <td>0.0</td>\n",
       "      <td>NaN</td>\n",
       "    </tr>\n",
       "    <tr>\n",
       "      <th>3</th>\n",
       "      <td>0</td>\n",
       "      <td>0.000000</td>\n",
       "      <td>1.000000</td>\n",
       "      <td>1</td>\n",
       "      <td>204</td>\n",
       "      <td>0.000000</td>\n",
       "      <td>1.000000</td>\n",
       "      <td>0.068826</td>\n",
       "      <td>0</td>\n",
       "      <td>0.000000</td>\n",
       "      <td>1.000000</td>\n",
       "      <td>5</td>\n",
       "      <td>0</td>\n",
       "      <td>1</td>\n",
       "      <td>1</td>\n",
       "      <td>-0.205083</td>\n",
       "      <td>1</td>\n",
       "      <td>1.0</td>\n",
       "      <td>NaN</td>\n",
       "    </tr>\n",
       "    <tr>\n",
       "      <th>4</th>\n",
       "      <td>0</td>\n",
       "      <td>0.000000</td>\n",
       "      <td>1.000000</td>\n",
       "      <td>1</td>\n",
       "      <td>91</td>\n",
       "      <td>0.000000</td>\n",
       "      <td>1.000000</td>\n",
       "      <td>0.068826</td>\n",
       "      <td>717</td>\n",
       "      <td>0.000000</td>\n",
       "      <td>1.000000</td>\n",
       "      <td>6</td>\n",
       "      <td>0</td>\n",
       "      <td>1</td>\n",
       "      <td>1</td>\n",
       "      <td>-0.205083</td>\n",
       "      <td>1</td>\n",
       "      <td>1.0</td>\n",
       "      <td>NaN</td>\n",
       "    </tr>\n",
       "  </tbody>\n",
       "</table>\n",
       "</div>"
      ],
      "text/plain": [
       "   title_diff_len  title_dlevenshtein  title_jarowinkler  title_num_same  \\\n",
       "0               0            0.000000           1.000000               1   \n",
       "1              13            0.666667           0.396825               1   \n",
       "2              15            0.695652           0.390700               1   \n",
       "3               0            0.000000           1.000000               1   \n",
       "4               0            0.000000           1.000000               1   \n",
       "\n",
       "   description_diff_len  description_dlevenshtein  description_jarowinkler  \\\n",
       "0                     0                  0.000000                 1.000000   \n",
       "1                   116                  0.666667                 0.396825   \n",
       "2                    11                  0.695652                 0.390700   \n",
       "3                   204                  0.000000                 1.000000   \n",
       "4                    91                  0.000000                 1.000000   \n",
       "\n",
       "   price_diff  attrsJSON_diff_len  attrsJSON_dlevenshtein  \\\n",
       "0    0.000000                   0                0.000000   \n",
       "1    0.200000                   0                0.666667   \n",
       "2    0.090909                   0                0.695652   \n",
       "3    0.068826                   0                0.000000   \n",
       "4    0.068826                 717                0.000000   \n",
       "\n",
       "   attrsJSON_jarowinkler  images_diff_number  metroID_same  locationID_same  \\\n",
       "0               1.000000                   1             0                1   \n",
       "1               0.396825                   1             0                1   \n",
       "2               0.390700                   1             0                1   \n",
       "3               1.000000                   5             0                1   \n",
       "4               1.000000                   6             0                1   \n",
       "\n",
       "   regionID_same  haversine  categoryID_same  isDuplicate  id  \n",
       "0              1  -0.205083                1          1.0 NaN  \n",
       "1              1  -0.205083                1          0.0 NaN  \n",
       "2              1  -0.205083                1          0.0 NaN  \n",
       "3              1  -0.205083                1          1.0 NaN  \n",
       "4              1  -0.205083                1          1.0 NaN  "
      ]
     },
     "execution_count": 7,
     "metadata": {},
     "output_type": "execute_result"
    }
   ],
   "source": [
    "pd_features.head()"
   ]
  },
  {
   "cell_type": "code",
   "execution_count": 17,
   "metadata": {
    "collapsed": false
   },
   "outputs": [
    {
     "data": {
      "text/plain": [
       "(4035592, 19)"
      ]
     },
     "execution_count": 17,
     "metadata": {},
     "output_type": "execute_result"
    }
   ],
   "source": [
    "pd_features.shape"
   ]
  },
  {
   "cell_type": "code",
   "execution_count": 18,
   "metadata": {
    "collapsed": true
   },
   "outputs": [],
   "source": [
    "pd_features.to_hdf(\"D1_20may.p\", 'w')"
   ]
  }
 ],
 "metadata": {
  "kernelspec": {
   "display_name": "Python 3",
   "language": "python",
   "name": "python3"
  },
  "language_info": {
   "codemirror_mode": {
    "name": "ipython",
    "version": 3
   },
   "file_extension": ".py",
   "mimetype": "text/x-python",
   "name": "python",
   "nbconvert_exporter": "python",
   "pygments_lexer": "ipython3",
   "version": "3.4.3"
  }
 },
 "nbformat": 4,
 "nbformat_minor": 0
}
