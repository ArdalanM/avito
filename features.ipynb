{
 "cells": [
  {
   "cell_type": "code",
   "execution_count": 8,
   "metadata": {
    "collapsed": true
   },
   "outputs": [],
   "source": [
    "__author__ = 'Evgeny BAZAROV'\n",
    "\n",
    "FOLDER = \"/home/evgeny/kaggle/input/\"\n",
    "\n",
    "import jellyfish\n",
    "import pandas as pd\n",
    "\n",
    "from pyxdameraulevenshtein import normalized_damerau_levenshtein_distance\n",
    "\n",
    "import re\n",
    "\n",
    "pd.set_option(\"display.max_columns\", 99)"
   ]
  },
  {
   "cell_type": "code",
   "execution_count": 18,
   "metadata": {
    "collapsed": false
   },
   "outputs": [
    {
     "name": "stdout",
     "output_type": "stream",
     "text": [
      "DONE\n"
     ]
    }
   ],
   "source": [
    "# TRAIN SET\n",
    "pd_data_part1 = pd.read_hdf(FOLDER + \"train_merged-part1.h\")\n",
    "pd_data_part2 = pd.read_hdf(FOLDER + \"train_merged-part2.h\")\n",
    "pd_data = pd_data_part1.append(pd_data_part2)\n",
    "\n",
    "pd_data.description_1.fillna(\"\", inplace=True)\n",
    "pd_data.description_2.fillna(\"\", inplace=True)\n",
    "\n",
    "pd_data.title_1.fillna(\"\", inplace=True)\n",
    "pd_data.title_2.fillna(\"\", inplace=True)\n",
    "\n",
    "del pd_data_part1\n",
    "del pd_data_part2\n",
    "\n",
    "print(\"DONE\")"
   ]
  },
  {
   "cell_type": "code",
   "execution_count": 19,
   "metadata": {
    "collapsed": false
   },
   "outputs": [
    {
     "data": {
      "text/plain": [
       "Index(['itemID_1', 'itemID_2', 'isDuplicate', 'generationMethod',\n",
       "       'categoryID_1', 'title_1', 'description_1', 'images_array_1',\n",
       "       'attrsJSON_1', 'price_1', 'locationID_1', 'metroID_1', 'lat_1', 'lon_1',\n",
       "       'parentCategoryID_1', 'regionID_1', 'categoryID_2', 'title_2',\n",
       "       'description_2', 'images_array_2', 'attrsJSON_2', 'price_2',\n",
       "       'locationID_2', 'metroID_2', 'lat_2', 'lon_2', 'parentCategoryID_2',\n",
       "       'regionID_2'],\n",
       "      dtype='object')"
      ]
     },
     "execution_count": 19,
     "metadata": {},
     "output_type": "execute_result"
    }
   ],
   "source": [
    "pd_data.columns"
   ]
  },
  {
   "cell_type": "code",
   "execution_count": 20,
   "metadata": {
    "collapsed": false
   },
   "outputs": [
    {
     "name": "stdout",
     "output_type": "stream",
     "text": [
      "Selecting: attrsJSON_1 and attrsJSON_2\n",
      "jaro winkler\n",
      "100000\n",
      "200000\n",
      "300000\n",
      "400000\n",
      "500000\n",
      "600000\n",
      "700000\n",
      "800000\n",
      "900000\n",
      "1000000\n",
      "1100000\n",
      "1200000\n",
      "1300000\n",
      "1400000\n",
      "1500000\n",
      "1600000\n",
      "1700000\n",
      "1800000\n",
      "1900000\n",
      "2000000\n",
      "2100000\n",
      "2200000\n",
      "2300000\n",
      "2400000\n",
      "2500000\n",
      "2600000\n",
      "2700000\n",
      "2800000\n",
      "2900000\n",
      "normalized demarau levenstein\n",
      "100000\n",
      "200000\n",
      "300000\n",
      "400000\n",
      "500000\n",
      "600000\n",
      "700000\n",
      "800000\n",
      "900000\n",
      "1000000\n",
      "1100000\n",
      "1200000\n",
      "1300000\n",
      "1400000\n",
      "1500000\n",
      "1600000\n",
      "1700000\n",
      "1800000\n",
      "1900000\n",
      "2000000\n",
      "2100000\n",
      "2200000\n",
      "2300000\n",
      "2400000\n",
      "2500000\n",
      "2600000\n",
      "2700000\n",
      "2800000\n",
      "2900000\n"
     ]
    }
   ],
   "source": [
    "def get_features(col1, col2, function):\n",
    "    new_feat = []\n",
    "    ctx = 0\n",
    "    for x, y in zip(col1, col2):\n",
    "        ctx += 1\n",
    "        new_feat.append(function(x, y))\n",
    "        if ctx % 100000 == 0:\n",
    "            print(ctx)\n",
    "    pd_feat = pd.DataFrame(new_feat)\n",
    "    return pd_feat\n",
    "\n",
    "#cols = [('title_1', 'title_2'), ('description_1', 'description_2')]\n",
    "cols = [('attrsJSON_1', 'attrsJSON_2')]\n",
    "\n",
    "for col1, col2 in cols:\n",
    "    print(\"Selecting: {} and {}\".format(col1, col2))\n",
    "    colname = col1.split(\"_\")[0]\n",
    "    col_1 = pd_data['title_1'].values\n",
    "    col_2 = pd_data['title_2'].values\n",
    "\n",
    "    print(\"jaro winkler\")\n",
    "    pd_feat = get_features(col_1, col_2, jellyfish.jaro_winkler)\n",
    "    pd_feat.to_hdf(FOLDER + \"feat_train_{}_jarowinkler.h\".format(colname), 'w')\n",
    "\n",
    "    print(\"normalized demarau levenstein\")\n",
    "    pd_feat = get_features(col_1, col_2, normalized_damerau_levenshtein_distance)\n",
    "    pd_feat.to_hdf(FOLDER + \"feat_train_{}_demarauleven.h\".format(colname), 'w')"
   ]
  },
  {
   "cell_type": "code",
   "execution_count": 6,
   "metadata": {
    "collapsed": false
   },
   "outputs": [],
   "source": [
    "pd_data['title_1_num'] = pd_data.title_1.apply(lambda x: re.sub('[^0-9]','', x))\n",
    "pd_data['title_2_num'] = pd_data.title_2.apply(lambda x: re.sub('[^0-9]','', x))"
   ]
  },
  {
   "cell_type": "code",
   "execution_count": 7,
   "metadata": {
    "collapsed": true
   },
   "outputs": [],
   "source": [
    "pd_data['title_num_same'] = 1 * (pd_data['title_1_num'] == pd_data['title_2_num'])"
   ]
  },
  {
   "cell_type": "code",
   "execution_count": 13,
   "metadata": {
    "collapsed": false
   },
   "outputs": [],
   "source": [
    "pd_feat = pd_data['title_num_same']\n",
    "pd_feat.to_hdf(FOLDER + \"feat_train_title_num_same.h\", 'w')"
   ]
  },
  {
   "cell_type": "code",
   "execution_count": 21,
   "metadata": {
    "collapsed": false
   },
   "outputs": [],
   "source": [
    "# TEST SET\n",
    "\n",
    "pd_data = pd.read_hdf(FOLDER + \"test_merged.h\")\n",
    "\n",
    "pd_data.description_1.fillna(\"\", inplace=True)\n",
    "pd_data.description_2.fillna(\"\", inplace=True)\n",
    "\n",
    "pd_data.title_1.fillna(\"\", inplace=True)\n",
    "pd_data.title_2.fillna(\"\", inplace=True)\n",
    "\n",
    "#cols = [('title_1', 'title_2'), ('description_1', 'description_2')]\n",
    "cols = [('attrsJSON_1', 'attrsJSON_2')]\n"
   ]
  },
  {
   "cell_type": "code",
   "execution_count": 22,
   "metadata": {
    "collapsed": false
   },
   "outputs": [
    {
     "name": "stdout",
     "output_type": "stream",
     "text": [
      "Selecting: attrsJSON_1 and attrsJSON_2\n",
      "jaro winkler\n",
      "100000\n",
      "200000\n",
      "300000\n",
      "400000\n",
      "500000\n",
      "600000\n",
      "700000\n",
      "800000\n",
      "900000\n",
      "1000000\n",
      "normalized demarau levenstein\n",
      "100000\n",
      "200000\n",
      "300000\n",
      "400000\n",
      "500000\n",
      "600000\n",
      "700000\n",
      "800000\n",
      "900000\n",
      "1000000\n"
     ]
    }
   ],
   "source": [
    "for col1, col2 in cols:\n",
    "    print(\"Selecting: {} and {}\".format(col1, col2))\n",
    "    colname = col1.split(\"_\")[0]\n",
    "    col_1 = pd_data['title_1'].values\n",
    "    col_2 = pd_data['title_2'].values\n",
    "\n",
    "    print(\"jaro winkler\")\n",
    "    pd_feat = get_features(col_1, col_2, jellyfish.jaro_winkler)\n",
    "    pd_feat.to_hdf(FOLDER + \"feat_test_{}_jarowinkler.h\".format(colname), 'w')\n",
    "\n",
    "    print(\"normalized demarau levenstein\")\n",
    "    pd_feat = get_features(col_1, col_2, normalized_damerau_levenshtein_distance)\n",
    "    pd_feat.to_hdf(FOLDER + \"feat_test_{}_demarauleven.h\".format(colname), 'w')"
   ]
  },
  {
   "cell_type": "code",
   "execution_count": 17,
   "metadata": {
    "collapsed": true
   },
   "outputs": [],
   "source": [
    "pd_data['title_1_num'] = pd_data.title_1.apply(lambda x: re.sub('[^0-9]','', x))\n",
    "pd_data['title_2_num'] = pd_data.title_2.apply(lambda x: re.sub('[^0-9]','', x))\n",
    "pd_data['title_num_same'] = 1 * (pd_data['title_1_num'] == pd_data['title_2_num'])\n",
    "pd_feat = pd_data['title_num_same']\n",
    "pd_feat.to_hdf(FOLDER + \"feat_test_title_num_same.h\", 'w')"
   ]
  },
  {
   "cell_type": "code",
   "execution_count": null,
   "metadata": {
    "collapsed": true
   },
   "outputs": [],
   "source": []
  }
 ],
 "metadata": {
  "kernelspec": {
   "display_name": "Python 3",
   "language": "python",
   "name": "python3"
  },
  "language_info": {
   "codemirror_mode": {
    "name": "ipython",
    "version": 3
   },
   "file_extension": ".py",
   "mimetype": "text/x-python",
   "name": "python",
   "nbconvert_exporter": "python",
   "pygments_lexer": "ipython3",
   "version": "3.4.3"
  }
 },
 "nbformat": 4,
 "nbformat_minor": 0
}
