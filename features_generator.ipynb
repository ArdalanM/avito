{
 "cells": [
  {
   "cell_type": "code",
   "execution_count": 16,
   "metadata": {
    "collapsed": true
   },
   "outputs": [],
   "source": [
    "import os, sys, time, re, collections, operator, copy, itertools, zipfile\n",
    "import numpy as np\n",
    "import pandas as pd\n",
    "import gc\n",
    "\n",
    "import pickle\n",
    "\n",
    "pd.set_option(\"display.max_columns\", 99)\n",
    "\n",
    "# parameters to set\n",
    "FOLDER_DATA = \"/media/shared_ardalan_evgeny/data/\"\n",
    "FOLDER_FEAT = \"/media/shared_ardalan_evgeny/features/\"\n",
    "\n",
    "CORPUS    = \"test\"\n",
    "FEATURE   = \"title\"\n",
    "PROCESSED = False\n",
    "\n",
    "\n",
    "def loadFileinZipFile(zip_filename, dtypes=None, parsedate=None, password=None, **kvargs):\n",
    "    \"\"\"\n",
    "        Load file to dataframe.\n",
    "        \"\"\"\n",
    "    with zipfile.ZipFile(zip_filename, 'r') as myzip:\n",
    "        if password:\n",
    "            myzip.setpassword(password)\n",
    "\n",
    "        inside_zip_filename = myzip.filelist[0].filename\n",
    "\n",
    "        if parsedate:\n",
    "            pd_data = pd.read_csv(myzip.open(inside_zip_filename), sep=',', parse_dates=parsedate, dtype=dtypes,\n",
    "                                  **kvargs)\n",
    "        else:\n",
    "            pd_data = pd.read_csv(myzip.open(inside_zip_filename), sep=',', dtype=dtypes, **kvargs)\n",
    "        return pd_data, inside_zip_filename"
   ]
  },
  {
   "cell_type": "code",
   "execution_count": 5,
   "metadata": {
    "collapsed": false
   },
   "outputs": [],
   "source": [
    "data_path = \"\"\n",
    "features_path = \"\"\n",
    "\n",
    "if PROCESSED:\n",
    "    FOLDER_DATA = \"/media/shared_ardalan_evgeny/processed_data/\"\n",
    "    data_path = FOLDER_DATA+\"ItemInfo_\"+CORPUS+\"_\"+FEATURE+\"_processed.h\"\n",
    "    features_path = FOLDER_FEAT+\"ItemInfo_\"+CORPUS+\"_\"+FEATURE+\"_processed_dumy_features.p\"\n",
    "else:\n",
    "    data_path = FOLDER_DATA+\"ItemInfo_\"+CORPUS+\"_\"+FEATURE+\".h\"\n",
    "    features_path = FOLDER_FEAT+\"ItemInfo_\"+CORPUS+\"_\"+FEATURE+\"_dumy_features.p\"\n",
    "\n",
    "pd_ItemInfo = pd.read_hdf(data_path)\n",
    "pd_ItemInfo[FEATURE].fillna(\"\", inplace=True)\n",
    "pd_ItemInfo_features = pd.read_pickle(features_path)\n",
    "pd_ItemInfo_data = pd.concat([pd_ItemInfo, pd_ItemInfo_features], axis=1)\n",
    "\n",
    "del pd_ItemInfo\n",
    "del pd_ItemInfo_features\n",
    "gc.collect()"
   ]
  },
  {
   "cell_type": "code",
   "execution_count": 20,
   "metadata": {
    "collapsed": false
   },
   "outputs": [],
   "source": [
    "FOLDER_DATA = \"/media/shared_ardalan_evgeny/data/\"\n",
    "pd_ItemPairs,_ = loadFileinZipFile(FOLDER_DATA+\"ItemPairs_\"+CORPUS+\".csv.zip\", encoding='utf-8')\n",
    "\n"
   ]
  },
  {
   "cell_type": "code",
   "execution_count": 22,
   "metadata": {
    "collapsed": false
   },
   "outputs": [
    {
     "data": {
      "text/plain": [
       "717"
      ]
     },
     "execution_count": 22,
     "metadata": {},
     "output_type": "execute_result"
    }
   ],
   "source": [
    "pd_ItemPairs = pd.merge(pd.merge(pd_ItemPairs, pd_ItemInfo_data, how = 'inner', left_on = 'itemID_1', right_on = 'itemID'), pd_ItemInfo_data, how = 'inner', left_on = 'itemID_2', right_on = 'itemID')\n",
    "\n",
    "del pd_ItemInfo_data\n",
    "gc.collect()"
   ]
  },
  {
   "cell_type": "code",
   "execution_count": 26,
   "metadata": {
    "collapsed": false,
    "scrolled": true
   },
   "outputs": [
    {
     "data": {
      "text/plain": [
       "53"
      ]
     },
     "execution_count": 26,
     "metadata": {},
     "output_type": "execute_result"
    }
   ],
   "source": [
    "len(pd_ItemPairs.columns)"
   ]
  }
 ],
 "metadata": {
  "kernelspec": {
   "display_name": "Python 3",
   "language": "python",
   "name": "python3"
  },
  "language_info": {
   "codemirror_mode": {
    "name": "ipython",
    "version": 3
   },
   "file_extension": ".py",
   "mimetype": "text/x-python",
   "name": "python",
   "nbconvert_exporter": "python",
   "pygments_lexer": "ipython3",
   "version": "3.4.3"
  }
 },
 "nbformat": 4,
 "nbformat_minor": 0
}
