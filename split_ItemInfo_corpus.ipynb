{
 "cells": [
  {
   "cell_type": "code",
   "execution_count": 6,
   "metadata": {
    "collapsed": true
   },
   "outputs": [],
   "source": [
    "__author__ = 'Evgeny BAZAROV'\n",
    "\n",
    "FOLDER = \"/media/shared_ardalan_evgeny/\"\n",
    "\n",
    "import os, sys, time, re, collections, operator, copy, itertools, zipfile\n",
    "import pandas as pd\n",
    "import numpy as np\n",
    "import gc\n",
    "\n",
    "pd.set_option(\"display.max_columns\", 99)\n",
    "\n",
    "def loadFileinZipFile(zip_filename, dtypes=None, parsedate=None, password=None, **kvargs):\n",
    "    \"\"\"\n",
    "        Load file to dataframe.\n",
    "        \"\"\"\n",
    "    with zipfile.ZipFile(zip_filename, 'r') as myzip:\n",
    "        if password:\n",
    "            myzip.setpassword(password)\n",
    "\n",
    "        inside_zip_filename = myzip.filelist[0].filename\n",
    "\n",
    "        if parsedate:\n",
    "            pd_data = pd.read_csv(myzip.open(inside_zip_filename), sep=',', parse_dates=parsedate, dtype=dtypes,\n",
    "                                  **kvargs)\n",
    "        else:\n",
    "            pd_data = pd.read_csv(myzip.open(inside_zip_filename), sep=',', dtype=dtypes, **kvargs)\n",
    "        return pd_data, inside_zip_filename"
   ]
  },
  {
   "cell_type": "code",
   "execution_count": 2,
   "metadata": {
    "collapsed": false
   },
   "outputs": [
    {
     "name": "stdout",
     "output_type": "stream",
     "text": [
      "LOADING DATA... train\n",
      "ItemInfo_train\n"
     ]
    }
   ],
   "source": [
    "print(\"LOADING DATA... train\")\n",
    "print(\"ItemInfo_train\")\n",
    "pdItemInfo_train, _ = loadFileinZipFile(FOLDER + \"ItemInfo_train.csv.zip\", encoding='utf-8')\n",
    "print(\"LOADING DATA... DONE\")"
   ]
  },
  {
   "cell_type": "code",
   "execution_count": 7,
   "metadata": {
    "collapsed": false
   },
   "outputs": [
    {
     "name": "stdout",
     "output_type": "stream",
     "text": [
      "Storing itemID + titles\n"
     ]
    },
    {
     "name": "stderr",
     "output_type": "stream",
     "text": [
      "/home/evgeny/env/P3/lib/python3.4/site-packages/pandas/core/generic.py:1096: PerformanceWarning: \n",
      "your performance may suffer as PyTables will pickle object types that it cannot\n",
      "map directly to c-types [inferred_type->mixed,key->block1_values] [items->['title']]\n",
      "\n",
      "  return pytables.to_hdf(path_or_buf, key, self, **kwargs)\n"
     ]
    },
    {
     "name": "stdout",
     "output_type": "stream",
     "text": [
      "Storing itemID + description\n"
     ]
    },
    {
     "name": "stderr",
     "output_type": "stream",
     "text": [
      "/home/evgeny/env/P3/lib/python3.4/site-packages/pandas/core/generic.py:1096: PerformanceWarning: \n",
      "your performance may suffer as PyTables will pickle object types that it cannot\n",
      "map directly to c-types [inferred_type->mixed,key->block1_values] [items->['description']]\n",
      "\n",
      "  return pytables.to_hdf(path_or_buf, key, self, **kwargs)\n"
     ]
    },
    {
     "name": "stdout",
     "output_type": "stream",
     "text": [
      "Storing itemID + attrsJSON\n"
     ]
    },
    {
     "name": "stderr",
     "output_type": "stream",
     "text": [
      "/home/evgeny/env/P3/lib/python3.4/site-packages/pandas/core/generic.py:1096: PerformanceWarning: \n",
      "your performance may suffer as PyTables will pickle object types that it cannot\n",
      "map directly to c-types [inferred_type->mixed,key->block1_values] [items->['attrsJSON']]\n",
      "\n",
      "  return pytables.to_hdf(path_or_buf, key, self, **kwargs)\n"
     ]
    },
    {
     "name": "stdout",
     "output_type": "stream",
     "text": [
      "Storing for training DONE\n"
     ]
    },
    {
     "data": {
      "text/plain": [
       "45"
      ]
     },
     "execution_count": 7,
     "metadata": {},
     "output_type": "execute_result"
    }
   ],
   "source": [
    "print(\"Storing itemID + titles\")\n",
    "pdItemInfo_train[['itemID', 'title']].to_hdf('ItemInfo_train_title.h', 'wb')\n",
    "print(\"Storing itemID + description\")\n",
    "pdItemInfo_train[['itemID', 'description']].to_hdf('ItemInfo_train_description.h', 'wb')\n",
    "print(\"Storing itemID + attrsJSON\")\n",
    "pdItemInfo_train[['itemID', 'attrsJSON']].to_hdf('ItemInfo_train_attrsJSON.h', 'wb')\n",
    "print(\"Storing for training DONE\")\n",
    "del pdItemInfo_train\n",
    "gc.collect()"
   ]
  },
  {
   "cell_type": "code",
   "execution_count": 8,
   "metadata": {
    "collapsed": false
   },
   "outputs": [
    {
     "name": "stdout",
     "output_type": "stream",
     "text": [
      "LOADING DATA... test\n",
      "ItemInfo_test\n",
      "LOADING DATA... DONE\n"
     ]
    }
   ],
   "source": [
    "print(\"LOADING DATA... test\")\n",
    "print(\"ItemInfo_test\")\n",
    "pdItemInfo_test, _ = loadFileinZipFile(FOLDER + \"ItemInfo_test.csv.zip\", encoding='utf-8')\n",
    "print(\"LOADING DATA... DONE\")"
   ]
  },
  {
   "cell_type": "code",
   "execution_count": 9,
   "metadata": {
    "collapsed": false
   },
   "outputs": [
    {
     "name": "stdout",
     "output_type": "stream",
     "text": [
      "Storing itemID + titles\n"
     ]
    },
    {
     "name": "stderr",
     "output_type": "stream",
     "text": [
      "/home/evgeny/env/P3/lib/python3.4/site-packages/pandas/core/generic.py:1096: PerformanceWarning: \n",
      "your performance may suffer as PyTables will pickle object types that it cannot\n",
      "map directly to c-types [inferred_type->mixed,key->block1_values] [items->['title']]\n",
      "\n",
      "  return pytables.to_hdf(path_or_buf, key, self, **kwargs)\n",
      "/home/evgeny/env/P3/lib/python3.4/site-packages/pandas/core/generic.py:1096: PerformanceWarning: \n",
      "your performance may suffer as PyTables will pickle object types that it cannot\n",
      "map directly to c-types [inferred_type->mixed,key->block1_values] [items->['description']]\n",
      "\n",
      "  return pytables.to_hdf(path_or_buf, key, self, **kwargs)\n"
     ]
    },
    {
     "name": "stdout",
     "output_type": "stream",
     "text": [
      "Storing itemID + description\n",
      "Storing itemID + attrsJSON\n"
     ]
    },
    {
     "name": "stderr",
     "output_type": "stream",
     "text": [
      "/home/evgeny/env/P3/lib/python3.4/site-packages/pandas/core/generic.py:1096: PerformanceWarning: \n",
      "your performance may suffer as PyTables will pickle object types that it cannot\n",
      "map directly to c-types [inferred_type->mixed,key->block1_values] [items->['attrsJSON']]\n",
      "\n",
      "  return pytables.to_hdf(path_or_buf, key, self, **kwargs)\n"
     ]
    },
    {
     "name": "stdout",
     "output_type": "stream",
     "text": [
      "Storing for training DONE\n"
     ]
    },
    {
     "data": {
      "text/plain": [
       "52"
      ]
     },
     "execution_count": 9,
     "metadata": {},
     "output_type": "execute_result"
    }
   ],
   "source": [
    "print(\"Storing itemID + titles\")\n",
    "pdItemInfo_test[['itemID', 'title']].to_hdf('ItemInfo_test_title.h', 'wb')\n",
    "print(\"Storing itemID + description\")\n",
    "pdItemInfo_test[['itemID', 'description']].to_hdf('ItemInfo_test_description.h', 'wb')\n",
    "print(\"Storing itemID + attrsJSON\")\n",
    "pdItemInfo_test[['itemID', 'attrsJSON']].to_hdf('ItemInfo_test_attrsJSON.h', 'wb')\n",
    "print(\"Storing for training DONE\")\n",
    "del pdItemInfo_test\n",
    "gc.collect()"
   ]
  }
 ],
 "metadata": {
  "kernelspec": {
   "display_name": "Python 3",
   "language": "python",
   "name": "python3"
  },
  "language_info": {
   "codemirror_mode": {
    "name": "ipython",
    "version": 3
   },
   "file_extension": ".py",
   "mimetype": "text/x-python",
   "name": "python",
   "nbconvert_exporter": "python",
   "pygments_lexer": "ipython3",
   "version": "3.4.3"
  }
 },
 "nbformat": 4,
 "nbformat_minor": 0
}
